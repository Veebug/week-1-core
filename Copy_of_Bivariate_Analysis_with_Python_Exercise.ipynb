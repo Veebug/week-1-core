{
  "nbformat": 4,
  "nbformat_minor": 0,
  "metadata": {
    "colab": {
      "name": "Copy of Bivariate Analysis with Python - Exercise",
      "provenance": [],
      "collapsed_sections": [
        "R-LF2g-wFZAy",
        "J5_LC2_Crgta",
        "z0Ka3v_5r6nN",
        "E-LqHxw-s1ix",
        "ZXFWumZhr6Ex",
        "oElZ1j7itA2H",
        "H9vGX6dirmHL",
        "eaygizicsMIy",
        "ExMqwGE1sZV-",
        "JZFIpijOrqbM",
        "1SBigmCQtYR-",
        "B3f7oOaVuGoG",
        "JtjPD6J3tpXH",
        "BQXexlSluX-X",
        "ocEXb9JMtuq0",
        "mKmXFgb5ujhh"
      ],
      "toc_visible": true
    },
    "kernelspec": {
      "display_name": "Python 3",
      "name": "python3"
    }
  },
  "cells": [
    {
      "cell_type": "markdown",
      "metadata": {
        "id": "fOOkSTsJy1PY"
      },
      "source": [
        "<font color=\"green\">*To start working on this notebook, or any other notebook that we will use in the Moringa Data Science Course, we will need to save our own copy of it. We can do this by clicking File > Save a Copy in Drive. We will then be able to make edits to our own copy of this notebook.*</font>"
      ]
    },
    {
      "cell_type": "markdown",
      "metadata": {
        "id": "_7HV1W96p9Pa"
      },
      "source": [
        "# Bivariate Analysis with Python - Exercise"
      ]
    },
    {
      "cell_type": "markdown",
      "metadata": {
        "id": "R-LF2g-wFZAy"
      },
      "source": [
        "## Introduction"
      ]
    },
    {
      "cell_type": "markdown",
      "metadata": {
        "id": "UhtjDiVhUeGj"
      },
      "source": [
        "This type of data involves two different variables. The analysis of this type of data deals with causes and relationships between two variables."
      ]
    },
    {
      "cell_type": "code",
      "metadata": {
        "id": "As8F2H5bYyzO"
      },
      "source": [
        "# Importing Numpy\n",
        "import numpy as np\n",
        "\n",
        "# Importing Pandas\n",
        "import pandas as pd\n",
        "\n",
        "# Importing Matplotlib\n",
        "import matplotlib.pyplot as plt\n",
        "\n",
        "# Importing Seaborn\n",
        "import seaborn as sns"
      ],
      "execution_count": null,
      "outputs": []
    },
    {
      "cell_type": "markdown",
      "metadata": {
        "id": "J5_LC2_Crgta"
      },
      "source": [
        "## 1.0 Numerical and Numerical"
      ]
    },
    {
      "cell_type": "markdown",
      "metadata": {
        "id": "z0Ka3v_5r6nN"
      },
      "source": [
        "### 1.01 Scatter Plots"
      ]
    },
    {
      "cell_type": "markdown",
      "metadata": {
        "id": "SqRBkR-ld--C"
      },
      "source": [
        "The simplest bivariate plot is the scatter plot. A simple scatter plot simply maps each variable of interest to a point in two-dimensional space. "
      ]
    },
    {
      "cell_type": "code",
      "metadata": {
        "colab": {
          "base_uri": "https://localhost:8080/",
          "height": 295
        },
        "id": "dR5_qZu2bK4h",
        "outputId": "f96edf23-0ac3-4d39-be71-e63c82c7858d"
      },
      "source": [
        "# Example 1\n",
        "# ---\n",
        "# Question: Create a scatter plot between the cypress tree and clearfell stampage trees\n",
        "# Dataset url  = http://bit.ly/CypressTimberStampageFeesDataset\n",
        "# Dataset info = This dataset contains the Timber Stampage Fees for thinning \n",
        "# and clearfell as per tree type and diameter.\n",
        "# ---\n",
        "#\n",
        "\n",
        "# Loading our dataset\n",
        "trees_df = pd.read_csv(\"http://bit.ly/CypressTimberStampageFeesDataset\")\n",
        "\n",
        "# Previewing our dataset\n",
        "trees_df.head()\n",
        "\n",
        "# Using Pandas: Plotting our scatterplot to compare the variables\n",
        "trees_df.plot(x = 'diameter_at_breast_height_cm', y = 'clear_fell_ksh/_m_cubed', kind='scatter')\n",
        "\n",
        "# Or Using Matplotlib: Plotting our scatterplot to compare the variables\n",
        "plt.scatter(trees_df[\"diameter_at_breast_height_cm\"] , trees_df[\"clear_fell_ksh/_m_cubed\"])\n",
        "\n",
        "# Or Using Seaborn: Using the function regplot to create our scatterplot\n",
        "sns.regplot(x = trees_df[\"diameter_at_breast_height_cm\"], y = trees_df[\"clear_fell_ksh/_m_cubed\"], fit_reg=False)\n",
        "\n",
        "# Giving our scatterplot a title\n",
        "plt.title('Diameter at Breast (cm) vs Clearfell Fees (m^3)')\n",
        "\n",
        "# Labelling our x axis\n",
        "plt.xlabel('Diameter at Breast (cm)')\n",
        "\n",
        "# Labelling our y axis\n",
        "plt.ylabel('Clearfell Fees (m^3)')\n",
        "\n",
        "# We then display our scatterplot as shown below\n",
        "plt.show()\n",
        "\n",
        "# The scatterplot graph shows that the variable diameter at breast is strongly correlated to the clearfell stampage fees.\n",
        "# This is because as the variable diameter increases the "
      ],
      "execution_count": null,
      "outputs": [
        {
          "data": {
            "image/png": "[encoded data removed]",
            "text/plain": [
              "<Figure size 432x288 with 1 Axes>"
            ]
          },
          "metadata": {},
          "output_type": "display_data"
        }
      ]
    },
    {
      "cell_type": "code",
      "metadata": {
        "colab": {
          "base_uri": "https://localhost:8080/",
          "height": 204
        },
        "id": "dcTZ5JTGjVE4",
        "outputId": "b39ec20e-9ea4-494c-9d65-ca20aad5597a"
      },
      "source": [
        "# Previewing our dataset\n",
        "trees_df.head()"
      ],
      "execution_count": null,
      "outputs": [
        {
          "data": {
            "text/html": [
              "<div>\n",
              "<style scoped>\n",
              "    .dataframe tbody tr th:only-of-type {\n",
              "        vertical-align: middle;\n",
              "    }\n",
              "\n",
              "    .dataframe tbody tr th {\n",
              "        vertical-align: top;\n",
              "    }\n",
              "\n",
              "    .dataframe thead th {\n",
              "        text-align: right;\n",
              "    }\n",
              "</style>\n",
              "<table border=\"1\" class=\"dataframe\">\n",
              "  <thead>\n",
              "    <tr style=\"text-align: right;\">\n",
              "      <th></th>\n",
              "      <th>tree_type</th>\n",
              "      <th>diameter_at_breast_height_cm</th>\n",
              "      <th>clear_fell_ksh/_m_cubed</th>\n",
              "      <th>thinning_ksh/_m_cubed</th>\n",
              "    </tr>\n",
              "  </thead>\n",
              "  <tbody>\n",
              "    <tr>\n",
              "      <th>0</th>\n",
              "      <td>Cypress</td>\n",
              "      <td>15</td>\n",
              "      <td>3337</td>\n",
              "      <td>2,336</td>\n",
              "    </tr>\n",
              "    <tr>\n",
              "      <th>1</th>\n",
              "      <td>Cypress</td>\n",
              "      <td>16</td>\n",
              "      <td>3362</td>\n",
              "      <td>2,354</td>\n",
              "    </tr>\n",
              "    <tr>\n",
              "      <th>2</th>\n",
              "      <td>Cypress</td>\n",
              "      <td>17</td>\n",
              "      <td>3338</td>\n",
              "      <td>2,372</td>\n",
              "    </tr>\n",
              "    <tr>\n",
              "      <th>3</th>\n",
              "      <td>Cypress</td>\n",
              "      <td>18</td>\n",
              "      <td>3414</td>\n",
              "      <td>2,390</td>\n",
              "    </tr>\n",
              "    <tr>\n",
              "      <th>4</th>\n",
              "      <td>Cypress</td>\n",
              "      <td>19</td>\n",
              "      <td>3440</td>\n",
              "      <td>2,408</td>\n",
              "    </tr>\n",
              "  </tbody>\n",
              "</table>\n",
              "</div>"
            ],
            "text/plain": [
              "  tree_type  ...  thinning_ksh/_m_cubed\n",
              "0   Cypress  ...                  2,336\n",
              "1   Cypress  ...                  2,354\n",
              "2   Cypress  ...                  2,372\n",
              "3   Cypress  ...                  2,390\n",
              "4   Cypress  ...                  2,408\n",
              "\n",
              "[5 rows x 4 columns]"
            ]
          },
          "execution_count": 4,
          "metadata": {},
          "output_type": "execute_result"
        }
      ]
    },
    {
      "cell_type": "code",
      "metadata": {
        "colab": {
          "base_uri": "https://localhost:8080/",
          "height": 295
        },
        "id": "7FjzxOrYwfPu",
        "outputId": "fef9b1eb-4fdd-4e58-bfa5-7f304674e3e5"
      },
      "source": [
        "# Example 2\n",
        "# ---\n",
        "# Question: Create a scatter plot between sepal length and sepal width - \n",
        "# What is the basic relationship between these variables using just visual inspection?\n",
        "# Dataset url  = http://bit.ly/IrisDataset\n",
        "# Dataset Info = Iris Plants Dataset\n",
        "# ---\n",
        "#\n",
        "\n",
        "# Loading our dataset from a url\n",
        "iris_df = pd.read_csv(\"http://bit.ly/IrisDataset\")\n",
        "\n",
        "# Previewing our dataset\n",
        "iris_df.head()\n",
        "\n",
        "# Plotting our scatterplot\n",
        "plt.scatter(iris_df['sepal_length'], iris_df['sepal_width'])\n",
        "\n",
        "# Giving our scatterplot a title\n",
        "plt.title('Sepal Width vs Sepal Length')\n",
        "\n",
        "# Labelling our x axis\n",
        "plt.xlabel('Sepal Length (cm)')\n",
        "\n",
        "# Labelling our y axis\n",
        "plt.ylabel('Sepal Width (cm)')\n",
        "\n",
        "# Displaying our scatterplot\n",
        "plt.show()\n",
        "\n",
        "# There is no relation because the points are scattered throughout the graph."
      ],
      "execution_count": null,
      "outputs": [
        {
          "data": {
            "image/png": "[encoded data removed]",
            "text/plain": [
              "<Figure size 432x288 with 1 Axes>"
            ]
          },
          "metadata": {},
          "output_type": "display_data"
        }
      ]
    },
    {
      "cell_type": "code",
      "metadata": {
        "colab": {
          "base_uri": "https://localhost:8080/",
          "height": 295
        },
        "id": "k6JnbZZ3_Xyf",
        "outputId": "391ed84e-32d5-459a-a4bb-02c0dad3ad8a"
      },
      "source": [
        "# Example 3\n",
        "# ---\n",
        "# Question = Create a scatter plot between mpg and weight - what is the basic relationship between \n",
        "# these variables using just visual inspection? Do the results make sense? Why?\n",
        "# Dataset url  = http://bit.ly/AutoMPGDataset\n",
        "# Dataset info = The data is technical spec of cars. The dataset is downloaded from UCI Machine Learning Repository \n",
        "# ---\n",
        "# \n",
        "\n",
        "# Loading our dataset from a url\n",
        "iris_df = pd.read_csv(\"http://bit.ly/AutoMPGDataset\")\n",
        "\n",
        "# Previewing our dataset\n",
        "iris_df.head()\n",
        "\n",
        "# Plotting our scatterplot\n",
        "plt.scatter(iris_df['mpg'], iris_df['weight'])\n",
        "\n",
        "# Giving our scatterplot a title\n",
        "plt.title('MPG vs Weight')\n",
        "\n",
        "# Labelling our x axis\n",
        "plt.xlabel('MPG')\n",
        "\n",
        "# Labelling our y axis\n",
        "plt.ylabel('Weight')\n",
        "\n",
        "# Displaying our scatterplot\n",
        "plt.show()\n",
        "\n",
        "# The variables show inverse relation. As the weight of the vehicles increases the mpg decreases. \n",
        "# Yes, the results make sense. As the light weighted vehicles can run much faster than the heavy vehicles."
      ],
      "execution_count": null,
      "outputs": [
        {
          "data": {
            "image/png": "[encoded data removed]",
            "text/plain": [
              "<Figure size 432x288 with 1 Axes>"
            ]
          },
          "metadata": {},
          "output_type": "display_data"
        }
      ]
    },
    {
      "cell_type": "code",
      "metadata": {
        "colab": {
          "background_save": true
        },
        "id": "32vryTAJ_UvW",
        "outputId": "dbefb00b-8138-407a-d290-93b1aa47c092"
      },
      "source": [
        "# Example 4 \n",
        "# ---\n",
        "# Question: Determine the relationship between price and points in the given wine reviews dataset below\n",
        "# Dataset url = http://bit.ly/WineDataset\n",
        "# ---\n",
        "# \n",
        "\n",
        "# Loading our dataset\n",
        "wine_reviews = pd.read_csv(\"http://bit.ly/WineDataset\")\n",
        "\n",
        "# Plotting our scatterplot\n",
        "wine_reviews[wine_reviews['price'] < 100].sample(100).plot.scatter(x='price', y='points')\n",
        "\n",
        "\n",
        "# Giving our scatterplot a title\n",
        "plt.title('Wine Price vs Awarded Points')\n",
        "\n",
        "# Displaying our scatterplot\n",
        "plt.show()\n",
        "\n",
        "# This plot shows us that price and points are weakly correlated: that is, \n",
        "# that more expensive wines do generally earn more points when reviewed. \n",
        "# In order to make effective use of this plot, we had to downsample our data, \n",
        "# taking just 100 points from the full set. This is because naive scatter plots do not \n",
        "# effectively treat points which map to the same place. \n",
        "# For example, if two wines, both costing $100, get a rating of 90, \n",
        "# then the second one is overplotted onto the first one, and we add just one point to the plot."
      ],
      "execution_count": null,
      "outputs": [
        {
          "data": {
            "image/png": "[encoded data removed]",
            "text/plain": [
              "<Figure size 432x288 with 1 Axes>"
            ]
          },
          "metadata": {},
          "output_type": "display_data"
        }
      ]
    },
    {
      "cell_type": "markdown",
      "metadata": {
        "id": "E-LqHxw-s1ix"
      },
      "source": [
        "####  <font color=\"green\">1.01 Challenges</font>"
      ]
    },
    {
      "cell_type": "code",
      "metadata": {
        "id": "kXXShxSls1A1"
      },
      "source": [
        "# Challenge 1\n",
        "# ---\n",
        "# Question = Create a scatter plot between sea levels and the years - what is the basic relationship between \n",
        "# these variables using just visual inspection? What do the results imply.\n",
        "# Dataset url  = http://bit.ly/SeaLevelDataset\n",
        "# Dataset info = This data contains \"cumulative changes in sea level for the world’s oceans since 1880, \n",
        "# based on a combination of long-term tide gauge measurements and recent satellite measurements. \n",
        "# Hint: Clean the dataset i.e. drop unnecessary columns, rename colums etc, sea levels = \"CSIRO Adjusted Sea Level\"\n",
        "# ---\n",
        "#\n",
        "sea=pd.read_csv('http://bit.ly/SeaLevelDataset')\n",
        "sea.head()\n",
        "plt.scatter(sea['Year'], sea['CSIRO Adjusted Sea Level'])\n",
        "plt.title('Year vs sea level')\n",
        "plt.xlabel('Year')\n",
        "plt.ylabel('Sea Level')\n",
        "plt.show()\n",
        "#positive correlation"
      ],
      "execution_count": null,
      "outputs": []
    },
    {
      "cell_type": "code",
      "metadata": {
        "id": "uNCVFTIVn8F6"
      },
      "source": [
        "sea.head()\n",
        "sea = sea.rename(columns={'CSIRO Adjusted Sea Level': 'Sea Level'})"
      ],
      "execution_count": null,
      "outputs": []
    },
    {
      "cell_type": "code",
      "metadata": {
        "id": "I4ELU3uGUKW8"
      },
      "source": [
        "# Example 2\n",
        "# ---\n",
        "# Question: Create a scatter plot between petal length and petal width - \n",
        "# What is the basic relationship between these variables using just visual inspection?\n",
        "# Dataset url  = http://bit.ly/IrisDataset\n",
        "# Dataset Info = Iris Plants Dataset\n",
        "# ---\n",
        "#\n",
        "\n",
        "# Loading our dataset from a url\n",
        "iris_df = pd.read_csv(\"http://bit.ly/IrisDataset\")\n",
        "\n",
        "# Previewing our dataset\n",
        "iris_df.head()\n",
        "\n",
        "# Plotting our scatterplot\n",
        "plt.scatter(iris_df['sepal_length'], iris_df['sepal_width'])\n",
        "\n",
        "# Giving our scatterplot a title\n",
        "plt.title('Sepal Width vs Sepal Length')\n",
        "\n",
        "# Labelling our x axis\n",
        "plt.xlabel('Sepal Length (cm)')\n",
        "\n",
        "# Labelling our y axis\n",
        "plt.ylabel('Sepal Width (cm)')\n",
        "\n",
        "# Displaying our scatterplot\n",
        "plt.show()\n",
        "\n",
        "# There is no relation because the points are scattered throughout the graph."
      ],
      "execution_count": null,
      "outputs": []
    },
    {
      "cell_type": "code",
      "metadata": {
        "id": "pm5_JBIIWSNY"
      },
      "source": [
        "# Challenge 3\n",
        "# --- based on the collected data provided below\n",
        "# Question: Find the relation between fixed acidity and density of Red wines\n",
        "# based on the collected data provided below\n",
        "# Dataset url  = http://bit.ly/WineRedsDataset\n",
        "# Dataset info =\n",
        "# ---\n",
        "#\n",
        "wine=pd.read_csv('http://bit.ly/WineRedsDataset')\n",
        "wine.head()\n",
        "plt.scatter(wine['fixed.acidity'],wine['density'])\n",
        "plt.title('fixed acidity and density of Red wines')\n",
        "plt.xlabel('fixed acidity ')\n",
        "plt.ylabel('density of Red wines')\n",
        "plt.show()\n",
        "#positive correlation"
      ],
      "execution_count": null,
      "outputs": []
    },
    {
      "cell_type": "code",
      "metadata": {
        "id": "05icjfnXcGH_"
      },
      "source": [
        "# Challenge 4\n",
        "# --- \n",
        "# Question: Find the relation between density and the alcohol of red wines\n",
        "# based on the collected data provided below\n",
        "# Dataset url  = http://bit.ly/WineRedsDataset\n",
        "# Dataset info =\n",
        "# ---\n",
        "#\n",
        "plt.scatter(wine['density'],wine['alcohol'])\n",
        "plt.title('density and the alcohol of red wines')\n",
        "plt.xlabel('density')\n",
        "plt.ylabel('alcohol')\n",
        "plt.show()\n"
      ],
      "execution_count": null,
      "outputs": []
    },
    {
      "cell_type": "markdown",
      "metadata": {
        "id": "ZXFWumZhr6Ex"
      },
      "source": [
        "### 1.02 Correlation"
      ]
    },
    {
      "cell_type": "markdown",
      "metadata": {
        "id": "v1z7T3zbgkMh"
      },
      "source": [
        "Correlation is a statistical measure that describes the association between random variables. In this section, will use pandas to calculate the correlation coefficient. We will learn how to calculate the pearson correlation coefficient which is the most widely used correlation coefficient."
      ]
    },
    {
      "cell_type": "code",
      "metadata": {
        "id": "xk9ZSH5XsDHk"
      },
      "source": [
        "# Example 1\n",
        "# ---\n",
        "# Question: Determine the relationship between the weight and displacement of vehicle \n",
        "# by determining the correlation coeffient.\n",
        "# Dataset url = http://bit.ly/AutoMPGDataset\n",
        "# Dataset info = The data is technical spec of cars. The dataset is downloaded from UCI Machine Learning Repository \n",
        "# ---\n",
        "#\n",
        "\n",
        "# Loading the dataset\n",
        "mpg_df = pd.read_csv(\"http://bit.ly/AutoMPGDataset\") \n",
        "\n",
        "# Previewing the dataframe\n",
        "mpg_df.head()\n",
        "\n",
        "# Calculating the pearson coefficient\n",
        "pearson_coeff = mpg_df[\"weight\"].corr(mpg_df[\"displacement\"], method=\"pearson\") \n",
        "print(pearson_coeff)\n",
        "\n",
        "# Checking whether you have to define the pearson\n",
        "coeff = mpg_df[\"weight\"].corr(mpg_df[\"displacement\"]) \n",
        "print(coeff)"
      ],
      "execution_count": null,
      "outputs": []
    },
    {
      "cell_type": "code",
      "metadata": {
        "id": "NT6fzg0Y9HEy"
      },
      "source": [
        "# Example 2\n",
        "# --- \n",
        "# Positive correlation is a relationship between two variables in which \n",
        "# both variables move in tandem—that is, in the same direction.\n",
        "# ---\n",
        "# Question: Using the correlation coefficient, determine whether acceleration and mpg are strongly or weakly correlated.\n",
        "# Dataset url = http://bit.ly/AutoMPGDataset\n",
        "# Dataset info = The data is technical spec of cars. The dataset is downloaded from UCI Machine Learning Repository \n",
        "# ---\n",
        "#\n",
        "\n",
        "# Loading the dataset\n",
        "mpg_df = pd.read_csv(\"http://bit.ly/AutoMPGDataset\") \n",
        "\n",
        "# Previewing the dataframe\n",
        "mpg_df.head()\n",
        "\n",
        "# Calculating the pearson coefficient\n",
        "mpg_df[\"acceleration\"].corr(mpg_df[\"mpg\"]) \n",
        "\n",
        "# Correlation coefficients between -.20 and .20 are generally considered weak, \n",
        "# between .20 and .50 (positive or negative) are considered moderate, \n",
        "# and above .50 (positive or negative) are considered strong. \n",
        "# Since the correlation coefficent of accelaration and mpg is 0.42, \n",
        "# this means that accelaration and mpg are moderately correlated."
      ],
      "execution_count": null,
      "outputs": []
    },
    {
      "cell_type": "code",
      "metadata": {
        "id": "HthEGQEm_Yqj"
      },
      "source": [
        "# Example 3\n",
        "# ---\n",
        "# Negative correlation or inverse correlation is a relationship between two variables\n",
        "# whereby they move in opposite directions. \n",
        "# ---\n",
        "# Question: Determine the correlation between accelaration and displacement of the cars given the dataset below.\n",
        "# Dataset url = http://bit.ly/AutoMPGDataset\n",
        "# Dataset info = The data is technical spec of cars. The dataset is downloaded from UCI Machine Learning Repository \n",
        "# ---\n",
        "#\n",
        "\n",
        "# Loading the dataset\n",
        "mpg_df = pd.read_csv(\"http://bit.ly/AutoMPGDataset\") \n",
        "\n",
        "# Previewing the dataframe\n",
        "mpg_df.head()\n",
        "\n",
        "# Calculating the pearson coefficient\n",
        "mpg_df[\"acceleration\"].corr(mpg_df[\"displacement\"]) \n",
        "\n",
        "# A negative (inverse) correlation occurs when the correlation coefficient is less than 0 \n",
        "# and indicates that both variables move in the opposite direction. \n",
        "# In short, any reading between 0 and -1 means that the two securities move in opposite directions.\n",
        "# The correlation coefficient is calculated to be -0.54.  This strong negative correlation signifies \n",
        "# that as the acceleration decreases, displacement increases and vice versa."
      ],
      "execution_count": null,
      "outputs": []
    },
    {
      "cell_type": "code",
      "metadata": {
        "id": "Cth-f1IrB7aT"
      },
      "source": [
        "# Example 4\n",
        "# ---\n",
        "# Question: Determine the correlation between the sepal length and sepal width given the dataset below.\n",
        "# Dataset url = http://bit.ly/IrisDataset \n",
        "# Dataset Info = Iris Plants Dataset\n",
        "# ---\n",
        "#\n",
        "\n",
        "# Loading the dataset\n",
        "iris_df = pd.read_csv(\"http://bit.ly/IrisDataset\") \n",
        "\n",
        "# Previewing the dataframe\n",
        "iris_df.head()\n",
        "\n",
        "# Calculating the pearson coefficient\n",
        "iris_df[\"sepal_length\"].corr(iris_df[\"sepal_width\"])\n",
        "\n",
        "# When the value of the correlation coefficient is close to zero, generally between -0.1 and +0.1, \n",
        "# the variables are said to have no linear relationship or a very weak linear relationship. \n",
        "# Thus in this example sepal length and sepal width have a very weak negative correlation."
      ],
      "execution_count": null,
      "outputs": []
    },
    {
      "cell_type": "code",
      "metadata": {
        "id": "8y_sdU5JF0eX"
      },
      "source": [
        "# Example 5\n",
        "# ---\n",
        "# Display the correlation coefficients of the variables in the Iris Dataset\n",
        "# Dataset url = http://bit.ly/IrisDataset \n",
        "# Dataset Info = Iris Plants Dataset\n",
        "# ---\n",
        "#\n",
        "\n",
        "# Loading the dataset\n",
        "iris_df = pd.read_csv(\"http://bit.ly/IrisDataset\") \n",
        "\n",
        "# Previewing the dataframe\n",
        "iris_df.head()\n",
        "\n",
        "# Calculating the pearson coefficient\n",
        "iris_df.corr() "
      ],
      "execution_count": null,
      "outputs": []
    },
    {
      "cell_type": "markdown",
      "metadata": {
        "id": "oElZ1j7itA2H"
      },
      "source": [
        "#### <font color=\"green\">1.02 Challenges</font>"
      ]
    },
    {
      "cell_type": "code",
      "metadata": {
        "id": "Q_yI0P6stG6f"
      },
      "source": [
        "# Challenge 1\n",
        "# ---\n",
        "# What is the relationship between volatile acidity and residual sugar?\n",
        "# Dataset url  = http://bit.ly/WineRedsDataset\n",
        "# Dataset info = Red wine dataset\n",
        "# ---\n",
        "#\n",
        "wine.head()\n",
        "wine['volatile.acidity'].corr(wine['residual.sugar'])\n",
        "#weak positive correlation"
      ],
      "execution_count": null,
      "outputs": []
    },
    {
      "cell_type": "code",
      "metadata": {
        "id": "qupgp1ShIDhF"
      },
      "source": [
        "# Challenge 2\n",
        "# What is the relationship between free sulfur dioxide and total sulfur dioxide?\n",
        "# Dataset url  = http://bit.ly/WineRedsDataset\n",
        "# Dataset info = Red wine dataset\n",
        "# ---\n",
        "#\n",
        "wine['free.sulfur.dioxide'].corr(wine['total.sulfur.dioxide'])\n",
        "#strong positive correlation"
      ],
      "execution_count": null,
      "outputs": []
    },
    {
      "cell_type": "code",
      "metadata": {
        "id": "r3je-dfmIDPE"
      },
      "source": [
        "# Challenge 3\n",
        "# ---\n",
        "# What is the relationship between fixed acidity and the pH of the wine?\n",
        "# Dataset url  = http://bit.ly/WineRedsDataset\n",
        "# Dataset info = Red wine dataset\n",
        "# ---\n",
        "#\n",
        "wine['fixed.acidity'].corr(wine['pH'])\n",
        "#strong negative correlation"
      ],
      "execution_count": null,
      "outputs": []
    },
    {
      "cell_type": "code",
      "metadata": {
        "id": "UDyvPD6XIGGt"
      },
      "source": [
        "# Challenge 4\n",
        "# ---\n",
        "# Compare the relationship between citric acid and quality\n",
        "# with alcohol and quality.\n",
        "# Dataset url  = http://bit.ly/WineRedsDataset\n",
        "# Dataset info = Red wine dataset\n",
        "# ---\n",
        "#\n",
        "wine['citric.acid'].corr(wine['quality'])\n",
        "#moderate positive correlation"
      ],
      "execution_count": null,
      "outputs": []
    },
    {
      "cell_type": "code",
      "metadata": {
        "id": "NMiZ-PCgIPQU"
      },
      "source": [
        "# Challenge 5\n",
        "# ---\n",
        "# Question: Display the correlation coefficients of the variables in the NBA Dataset\n",
        "# Dataset url  = http://bit.ly/MSDS-NBA\n",
        "# Dataset info = NBA playes dataset\n",
        "# ---\n",
        "#\n",
        "nba=pd.read_csv('http://bit.ly/MSDS-NBA')\n",
        "nba.corr()"
      ],
      "execution_count": null,
      "outputs": []
    },
    {
      "cell_type": "markdown",
      "metadata": {
        "id": "H9vGX6dirmHL"
      },
      "source": [
        "## 1.1 Categorical and Categorical"
      ]
    },
    {
      "cell_type": "markdown",
      "metadata": {
        "id": "eaygizicsMIy"
      },
      "source": [
        "### 1.11 Stacked Column Chart"
      ]
    },
    {
      "cell_type": "markdown",
      "metadata": {
        "id": "t_gpYDTCcaJ6"
      },
      "source": [
        "Stacked column charts work well when the focus of the chart is to compare the totals and one part of the totals. It\n",
        "is a useful graph to visualize the relationship between two categorical variables. It compares the percentage that each category from one variable contributes to a total across categories of the second variable. \t"
      ]
    },
    {
      "cell_type": "code",
      "metadata": {
        "id": "IoWlbncpRHTd"
      },
      "source": [
        "# Example 1 \n",
        "# We can create a stacked bar chart through the use of the pyplot.bar() function. \n",
        "# NB: Remember pyplot from when we imported matplotlib.pyplot...\n",
        "# Let's create a simple stacked column chart\n",
        "# \n",
        "\n",
        "teams       = ['Kiboko', 'Kifaru', 'Twiga', 'Ndovu']\n",
        "womenPoints = [10 , 25, 40, 23]\n",
        "menPoints   = [10 , 20, 15, 22]\n",
        " \n",
        "X = [team for team in teams]\n",
        "\n",
        "plt.bar(X, womenPoints, label='Women')\n",
        "plt.bar(X, menPoints, label='Men', bottom = womenPoints)\n",
        "\n",
        "# Labeling our y axis\n",
        "plt.ylabel(\"Points\")\n",
        "\n",
        "# Labeling our x axis\n",
        "plt.xlabel(\"Teams\")\n",
        "\n",
        "# Creating a key/legend for our chart\n",
        "plt.legend(loc=\"upper right\")\n",
        "\n",
        "# Adding a title\n",
        "plt.title(\"Teams vs Points\")\n",
        "\n",
        "# Displaying our chart\n",
        "plt.show()"
      ],
      "execution_count": null,
      "outputs": []
    },
    {
      "cell_type": "code",
      "metadata": {
        "id": "8HrHEx7kLXuq"
      },
      "source": [
        "# Example 2\n",
        "# In this example, we will first create a stacked column chart from an array and numpy arrays \n",
        "# \n",
        "countries = ['Norway', 'Germany', 'Canada', 'United States', 'Netherlands']\n",
        "bronzes   = np.array([10, 7, 10, 6, 6])\n",
        "silvers   = np.array([14, 10, 8, 8, 6])\n",
        "golds     = np.array([14, 14, 11, 9, 8])\n",
        "\n",
        "X = [country for country in countries]\n",
        "\n",
        "# We stack the silver medal bars on top of the bronze medals bars and similarly gold medal bar on top\n",
        "# by passing the parameter bottom in the plt.bar () as shown below\n",
        "# \n",
        "plt.bar(X, golds, width=0.6, label='golds', color='gold', bottom=silvers+bronzes)\n",
        "plt.bar(X, silvers, width=0.6, label='silvers', color='silver', bottom=bronzes)\n",
        "plt.bar(X, bronzes, width=0.6, label='bronzes', color='#CD7F32')\n",
        "\n",
        "# labeling our y axis\n",
        "plt.ylabel(\"Medals\")\n",
        "\n",
        "# Labeling our x axis\n",
        "plt.xlabel(\"Countries\")\n",
        "\n",
        "# Creating a key/legend for our chart\n",
        "plt.legend(loc=\"upper right\")\n",
        "\n",
        "# Adding a title\n",
        "plt.title(\"2018 Winter Olympics Top Scorers\")\n",
        "\n",
        "# Displaying our chart\n",
        "plt.show()"
      ],
      "execution_count": null,
      "outputs": []
    },
    {
      "cell_type": "code",
      "metadata": {
        "id": "P54RyL9PfpsF"
      },
      "source": [
        "# Example 3\n",
        "# ---\n",
        "# Question: Create a stacked bar chart from the following dataset\n",
        "# Dataset url = http://bit.ly/Bikes-Sales-Dataset\n",
        "# --- \n",
        "# \n",
        "\n",
        "# Loading our dataset\n",
        "bike_sales_df = pd.read_csv(\"http://bit.ly/Bikes-Sales-Dataset\")\n",
        "\n",
        "bike_sales_df[['hybrid', 'racing', 'electric']].plot(kind='bar', figsize=(8, 6), stacked=True)\n",
        "\n",
        "# Rotating our x axis ticks\n",
        "plt.xticks(rotation = 45)\n",
        "\n",
        "# Giving our chart a title\n",
        "plt.title(\"Sales of Hybrid, Racing and Electric Bikes (May 2017 - May 18)\", fontsize=14, y=1.015)\n",
        "\n",
        "# Labeling our y axis\n",
        "plt.ylabel(\"Sales\", fontsize=14, labelpad=15)\n",
        "\n",
        "# Labeling our x axis\n",
        "plt.xlabel(\"Months\", fontsize=14, labelpad=15)\n",
        "\n",
        "# Displaying our chart\n",
        "plt.show()"
      ],
      "execution_count": null,
      "outputs": []
    },
    {
      "cell_type": "code",
      "metadata": {
        "id": "1pCp-xzjucll"
      },
      "source": [
        "bike_sales_df.head()"
      ],
      "execution_count": null,
      "outputs": []
    },
    {
      "cell_type": "markdown",
      "metadata": {
        "id": "ExMqwGE1sZV-"
      },
      "source": [
        "#### <font color=\"green\">1.11 Challenges</font>"
      ]
    },
    {
      "cell_type": "code",
      "metadata": {
        "id": "XhVi0tR9sYvY"
      },
      "source": [
        "# Challenge 1\n",
        "# ---\n",
        "# Question: Display the final results of the men's doubles badminton tournament at the 2016 Summer Olympics \n",
        "# at Riocentro, Brazil, between the shuttlers from China and Malaysia scoring 16-21, 21-11, 23-21 \n",
        "# in the first, second and third rounds respectively.\n",
        "# ---\n",
        "# \n",
        "\n",
        "# Rounds played\n",
        "rounds = ['Round 1', 'Round 2', 'Round 3']\n",
        "\n",
        "# Points scored\n",
        "chinaPoints     = [16, 21, 23]\n",
        "malaysiaPoints  = [21, 11, 21]\n",
        "\n",
        "X= [round for round in rounds]\n",
        "plt.bar(X, chinaPoints, label='China')\n",
        "plt.bar(X, malaysiaPoints, label='Malaysia', bottom = chinaPoints)\n",
        "\n",
        "# Labeling our y axis\n",
        "plt.ylabel(\"Points\")\n",
        "\n",
        "# Labeling our x axis\n",
        "plt.xlabel(\"Teams\")\n",
        "\n",
        "# Creating a key/legend for our chart\n",
        "plt.legend(loc=\"upper right\")\n",
        "\n",
        "# Adding a title\n",
        "plt.title(\"Teams vs Points\")\n",
        "\n",
        "# Displaying our chart\n",
        "plt.show()\n"
      ],
      "execution_count": null,
      "outputs": []
    },
    {
      "cell_type": "code",
      "metadata": {
        "id": "vVebRdN4W_Np"
      },
      "source": [
        "# Challenge 2\n",
        "# ---\n",
        "# Create a stacked bar chart of racing and electric bikes from the following dataset\n",
        "# Dataset url = http://bit.ly/Bikes-Sales-Dataset\n",
        "# ---\n",
        "# \n",
        "\n",
        "bike_sales_df[['racing', 'electric']].plot(kind='bar', figsize=(8, 6), stacked=True)\n",
        "\n",
        "\n",
        "# Rotating our x axis ticks\n",
        "plt.xticks(rotation = 45)\n",
        "\n",
        "# Giving our chart a title\n",
        "plt.title(\"Sales of Racing and Electric Bikes (May 2017 - May 18)\", fontsize=14, y=1.015)\n",
        "\n",
        "# Labeling our y axis\n",
        "plt.ylabel(\"Sales\", fontsize=14, labelpad=15)\n",
        "\n",
        "# Labeling our x axis\n",
        "plt.xlabel(\"Months\", fontsize=14, labelpad=15)\n",
        "\n",
        "# Displaying our chart\n",
        "plt.show()"
      ],
      "execution_count": null,
      "outputs": []
    },
    {
      "cell_type": "code",
      "metadata": {
        "id": "avnYuQBEXAxD"
      },
      "source": [
        "# Challenge 3\n",
        "# ---\n",
        "# Question: The following dataset contains series 1 and series 2 games. \n",
        "# Players were groupd in 20 groups and accumilated the given points.\n",
        "# Create a stack bar chart of Group 1, 2 and 3\n",
        "# Dataset url = http://bit.ly/SeriesDataset\n",
        "# ---\n",
        "#\n",
        "\n",
        "series=pd.read_csv('http://bit.ly/SeriesDataset')\n",
        "series.head()\n",
        "a=series.iloc[0:19, :]\n",
        "b=series.iloc[20:39, :]\n",
        "c=series.iloc[40:, :]\n",
        "\n"
      ],
      "execution_count": null,
      "outputs": []
    },
    {
      "cell_type": "code",
      "metadata": {
        "id": "rJ_XzY32yC4g"
      },
      "source": [
        "#group 1\n",
        "a[['Series1', 'Series2']].plot(kind='bar', figsize=(8, 6), stacked=True)\n",
        "\n",
        "\n",
        "# Rotating our x axis ticks\n",
        "plt.xticks(rotation = 45)\n",
        "\n",
        "# Giving our chart a title\n",
        "plt.title(\"Group 1\", fontsize=14, y=1.015)\n",
        "\n",
        "# Labeling our y axis\n",
        "plt.ylabel(\"Series\", fontsize=14, labelpad=15)\n",
        "\n",
        "# Labeling our x axis\n",
        "plt.xlabel(\"group 1\", fontsize=14, labelpad=15)\n",
        "\n",
        "# Displaying our chart\n",
        "plt.show()"
      ],
      "execution_count": null,
      "outputs": []
    },
    {
      "cell_type": "code",
      "metadata": {
        "id": "2kzRbnK7ylfQ"
      },
      "source": [
        "#group 2\n",
        "b[['Series1', 'Series2']].plot(kind='bar', figsize=(8, 6), stacked=True)\n",
        "\n",
        "\n",
        "# Rotating our x axis ticks\n",
        "plt.xticks(rotation = 45)\n",
        "\n",
        "# Giving our chart a title\n",
        "plt.title(\"Group 1\", fontsize=14, y=1.015)\n",
        "\n",
        "# Labeling our y axis\n",
        "plt.ylabel(\"Series\", fontsize=14, labelpad=15)\n",
        "\n",
        "# Labeling our x axis\n",
        "plt.xlabel(\"group 1\", fontsize=14, labelpad=15)\n",
        "\n",
        "# Displaying our chart\n",
        "plt.show()"
      ],
      "execution_count": null,
      "outputs": []
    },
    {
      "cell_type": "code",
      "metadata": {
        "id": "etYGhKIsytvU"
      },
      "source": [
        "#group 3\n",
        "c[['Series1', 'Series2']].plot(kind='bar', figsize=(8, 6), stacked=True)\n",
        "\n",
        "\n",
        "# Rotating our x axis ticks\n",
        "plt.xticks(rotation = 45)\n",
        "\n",
        "# Giving our chart a title\n",
        "plt.title(\"Group 1\", fontsize=14, y=1.015)\n",
        "\n",
        "# Labeling our y axis\n",
        "plt.ylabel(\"Series\", fontsize=14, labelpad=15)\n",
        "\n",
        "# Labeling our x axis\n",
        "plt.xlabel(\"group 1\", fontsize=14, labelpad=15)\n",
        "\n",
        "# Displaying our chart\n",
        "plt.show()"
      ],
      "execution_count": null,
      "outputs": []
    },
    {
      "cell_type": "code",
      "metadata": {
        "id": "9RJ1yFroyMuy"
      },
      "source": [
        "series.head()"
      ],
      "execution_count": null,
      "outputs": []
    },
    {
      "cell_type": "markdown",
      "metadata": {
        "id": "JZFIpijOrqbM"
      },
      "source": [
        "## 1.2 Categorical and Numerical"
      ]
    },
    {
      "cell_type": "markdown",
      "metadata": {
        "id": "1SBigmCQtYR-"
      },
      "source": [
        "### 1.21 Line Charts"
      ]
    },
    {
      "cell_type": "code",
      "metadata": {
        "id": "Mw-3r0JIrxgn"
      },
      "source": [
        "# Example 1\n",
        "# ---\n",
        "# Question: Plot a graph of Sunlight vs. Time\n",
        "# ---\n",
        "#\n",
        "\n",
        "hours    = [1, 2, 3, 4, 5, 6, 7, 8, 9]\n",
        "sunlight = [2, 3, 4, 5, 7, 9, 13, 15, 17]\n",
        "\n",
        "# Plotting our line graph\n",
        "plt.plot(hours, sunlight)\n",
        "\n",
        "# Giving a title to our line graph\n",
        "plt.title(\"Sunlight vs Time (hrs)\", fontsize=14, y=1.015)\n",
        "\n",
        "# Labelling the y-axis\n",
        "plt.ylabel('Sunlight')\n",
        "\n",
        "# Labelling the x-axis\n",
        "plt.xlabel('Time')\n",
        "\n",
        "# Displaying our graph\n",
        "plt.show()"
      ],
      "execution_count": null,
      "outputs": []
    },
    {
      "cell_type": "code",
      "metadata": {
        "id": "8g3DUr72EeqU"
      },
      "source": [
        "# Example 2\n",
        "# ---\n",
        "# Question: Create a line graph of Sales of hybrid bikes from May 2017 to May 2018\n",
        "# Dataset url = http://bit.ly/Bikes-Sales-Dataset\n",
        "# ---\n",
        "#\n",
        "\n",
        "# Loading our dataset\n",
        "bikes_dataset_df = pd.read_csv(\"http://bit.ly/Bikes-Sales-Dataset\")\n",
        "\n",
        "# Plotting our line graph\n",
        "bikes_dataset_df[[\"hybrid\"]].plot()\n",
        "\n",
        "# Giving a title to our line graph\n",
        "plt.title(\"Sales of Hybrid Bikes from May 2017 to May 2018\", fontsize=14, y=1.015)\n",
        "\n",
        "# Labelling the y-axis\n",
        "plt.ylabel('Sales')\n",
        "\n",
        "# Labelling the x-axis\n",
        "plt.xlabel('Time')\n",
        "\n",
        "# Displaying our graph\n",
        "plt.show()"
      ],
      "execution_count": null,
      "outputs": []
    },
    {
      "cell_type": "markdown",
      "metadata": {
        "id": "B3f7oOaVuGoG"
      },
      "source": [
        "### <font color=\"green\">1.21 Challenges</font>"
      ]
    },
    {
      "cell_type": "code",
      "metadata": {
        "id": "fgTFgSDluOkM"
      },
      "source": [
        "# Challenge 1\n",
        "# ---\n",
        "# Question: Create a line graph using the following data given below\n",
        "# ---\n",
        "# \n",
        "\n",
        "years                         = [1960, 1970, 1980, 1990, 2000, 2010] \n",
        "popupation   = [449.48, 553.57, 696.783, 870.133, 1000.4, 1309.1]\n",
        "\n",
        "plt.plot(years,popupation)\n",
        "plt.title('years vs popupation')\n",
        "plt.xlabel('years')\n",
        "plt.ylabel('popupation')\n",
        "plt.show()"
      ],
      "execution_count": null,
      "outputs": []
    },
    {
      "cell_type": "code",
      "metadata": {
        "id": "N-pxraxpSMHj"
      },
      "source": [
        "# Challenge 2\n",
        "# ---\n",
        "# Question: Create seperate lines graph to study tends for Microsoft, \n",
        "# Google and IMB Stocks over time from the given dataset\n",
        "# Dataset url = http://bit.ly/StocksDataset\n",
        "# NB: If you choose to plot only one graph and account from all the above stocks,\n",
        "# you will no longer be performing bivariate analysis :)\n",
        "# ---\n",
        "# \n",
        "\n",
        "stocks=pd.read_csv('http://bit.ly/StocksDataset')\n",
        "stocks.head()"
      ],
      "execution_count": null,
      "outputs": []
    },
    {
      "cell_type": "code",
      "metadata": {
        "id": "pMlZHtkqW1X5"
      },
      "source": [
        "# Challenge 3\n",
        "# ---\n",
        "# Question: What was the population trend for Sub-Saharan Africa (IDA & IBRD countries) from 2006 to 2016? \n",
        "# Dataset url = http://bit.ly/WorldPopulationDataset\n",
        "# ---\n",
        "#\n",
        "\n",
        "OUR CODE GOES HERE"
      ],
      "execution_count": null,
      "outputs": []
    },
    {
      "cell_type": "markdown",
      "metadata": {
        "id": "JtjPD6J3tpXH"
      },
      "source": [
        "### 1.23 Z-test "
      ]
    },
    {
      "cell_type": "code",
      "metadata": {
        "id": "j5cavzRKtr5U"
      },
      "source": [
        "# Example 1\n",
        "# ---\n",
        "# Calculating the z - score from the given array\n",
        "# ---\n",
        "#\n",
        "from scipy import stats\n",
        "\n",
        "a = np.array([ 0.7972, 0.0767, 0.4383, 0.7866, 0.8091, 0.1954, 0.6307, 0.6599, 0.1065, 0.0508])\n",
        "stats.zscore(a)"
      ],
      "execution_count": null,
      "outputs": []
    },
    {
      "cell_type": "markdown",
      "metadata": {
        "id": "BQXexlSluX-X"
      },
      "source": [
        "### <font color=\"green\">1.23 Challenges</font>"
      ]
    },
    {
      "cell_type": "code",
      "metadata": {
        "id": "unSEVISMudU1"
      },
      "source": [
        "# Challenge 1\n",
        "# "
      ],
      "execution_count": null,
      "outputs": []
    },
    {
      "cell_type": "markdown",
      "metadata": {
        "id": "ocEXb9JMtuq0"
      },
      "source": [
        "### 1.24 T-test"
      ]
    },
    {
      "cell_type": "code",
      "metadata": {
        "id": "Yd92ydLXtwnD"
      },
      "source": [
        "# Example 1\n",
        "# --- \n",
        "# Question: Let's calculate the t-test for the mean of one group of scores \n",
        "# x = [1 , 2, 3, 4, 5]\n",
        "# ---\n",
        "#\n",
        "\n",
        "# Importing ttest_1samp from scipy.stats\n",
        "from scipy.stats import ttest_1samp\n",
        "\n",
        "# Defining x and expected mean\n",
        "x = [1, 1, 1, 1, 12]\n",
        "\n",
        "expected_mean = 0\n",
        "\n",
        "# Calculating the t-test\n",
        "t_statistic, p_value = ttest_1samp(x, expected_mean, axis = 0)\n",
        "\n",
        "# Then displaying the t-statistic\n",
        "t_statistic"
      ],
      "execution_count": null,
      "outputs": []
    },
    {
      "cell_type": "code",
      "metadata": {
        "id": "S8jR6J8t1duR"
      },
      "source": [
        "# Example 2\n",
        "# ---\n",
        "# Computing the t-test for the means of two independent samples of scores; Group X and Y\n",
        "# x = [4, 5, 7, 5, 2]\n",
        "# y = [5, 6, 3, 6, 11]\n",
        "# ---\n",
        "# \n",
        "\n",
        "# Importing ttest_1samp from scipy.stats\n",
        "from scipy.stats import ttest_ind\n",
        "\n",
        "# Defining our scores...x and y\n",
        "x = [1, 2, 3, 4, 7]\n",
        "y = [1, 2, 3, 4, 6]\n",
        "\n",
        "# Then calculating the t-test\n",
        "t_statistic, p_value = ttest_ind(x, y)\n",
        "\n",
        "# Then displaying the t-statistic\n",
        "t_statistic"
      ],
      "execution_count": null,
      "outputs": []
    },
    {
      "cell_type": "code",
      "metadata": {
        "id": "dAXT2J5NAj63"
      },
      "source": [
        "# Example 3: Independent T-test\n",
        "# ---\n",
        "# As we had learnt from our suggested readings, the independent t-test is also called the two sample t-test, \n",
        "# student’s t-test, or unpaired t-test. \n",
        "# It’s a parametric test that tests for a significant difference between the mean \n",
        "# of two independent (unrelated) groups.\n",
        "# ---\n",
        "# Compute the t-test to see if there is a significant difference in the sepal width \n",
        "# between the species Iris-setosa and Iris-versicolor which are variables “sepal_width” \n",
        "# and “species” respectively.\n",
        "# Dataset url = http://bit.ly/IrisDataset\n",
        "# ---\n",
        "# \n",
        "\n",
        "# Step 1: \n",
        "# Showing descriptive statistics from pandas.describe()\n",
        "# --- \n",
        "# df.groupby(\"species\")['sepal_width'].describe()\n",
        "\n",
        "# Step 2: \n",
        "# Showing descriptive statistics from researchpy.summary_cont()\n",
        "# --- \n",
        "# rp.summary_cont(df.groupby(\"species\")['sepal_width'])\n",
        "\n",
        "# Step 3: \n",
        "# Before the t-test can be conducted, the assumptions of the t-test need \n",
        "# to be checked to see if the t-test results can be trusted. The data which we will use must \n",
        "# meet those assumptions in order for the test results to be valid.\n",
        "# 1. The samples are independently and randomly drawn\n",
        "# 2. The distribution of the residuals between the two groups should follow the normal distribution\n",
        "# 3. The variances between the two groups are equal\n",
        "# If any of these assumptions are violated then another test should be used. \n",
        "# The dependent variable (outcome being measured) should be continuous which is measured on an interval or ratio scale.\n",
        "# --- \n",
        "# stats.levene(setosa['sepal_width'], versicolor['sepal_width'])\n",
        "\n",
        "# Step 3:\n",
        "# We learn that the test is not significant meaning there is homogeneity of variances and we can proceed. \n",
        "# If the test were to be significant, a viable alternative would be to conduct a Welch’s t-test.\n",
        "\n",
        "# Step 4: \n",
        "# Next we test the assumption of normality. The residuals needs to be normally distributed. \n",
        "# To calculate the residuals between the groups, subtract the values of one group from the values of the other group.\n",
        "# --- \n",
        "# diff = setosa['sepal_width'] - versicolor['sepal_width']\n",
        "\n",
        "# Step 5: \n",
        "# Checking for normality can be done visually or with a formula test. \n",
        "# Visually, one can use a p-p plot, a q-q plot, or histogram, and/or one can use the Shapiro-Wilk \n",
        "# test to formally test for normality. \n",
        "# To test for normality formally, use stats.shapiro() which is from the scipy.stats library that was imported. \n",
        "# Documention on shapiro can be found here: http://bit.ly/DocShapiro\n",
        "# First let’s check for normality visually with a p-p plot and a histogram plot.\n",
        "# --- \n",
        "# stats.probplot(diff, plot= plt)\n",
        "# plt.title('Sepal Width P-P Plot') \n",
        "# plt.show()\n",
        "\n",
        "# Step 5:\n",
        "# If you are unfamiliar with how to read a p-p or q-q plot, \n",
        "# the dots should fall on the red line. If the dots are not on the red line then it’s an indication that \n",
        "# there is deviation from normality. Some deviations from normality is fine, as long as it’s not severe.\n",
        "\n",
        "# Step 6:\n",
        "# The p-p plot shows that the data maintains normality. Let’s take a look at the histogram next.\n",
        "# --- \n",
        "# diff.plot(kind= \"hist\", title= \"Sepal Width Residuals\")\n",
        "# plt.xlabel(\"Length (cm)\") \n",
        "# plt.show()\n",
        "\n",
        "\n",
        "# Step 7: \n",
        "# For the formal test on normality\n",
        "# --- \n",
        "# stats.shapiro(diff)\n",
        "\n",
        "# Step 7: \n",
        "# The output is not labeled, but the first value is the W test statistic and the second value is the p-value. \n",
        "# Since the test statistic does not produce a significant p-value, the data is indicated to be normally distributed.\n",
        "# The data met all the assumptions for the t-test which indicates the results can be trusted \n",
        "# and the t-test is an appropriate test to be used.\n",
        "\n",
        "# Step 8: \n",
        "# To conduct the independent t-test using scipy.stats, use the stats.ttest_ind() method.\n",
        "# ---\n",
        "# stats.ttest_ind(setosa['sepal_width'], versicolor['sepal_width'])\n",
        "\n",
        "# Conclusion:\n",
        "# There is a statistically significant difference between the sepal width of Iris-setosa \n",
        "# and Iris-versicolor (t(98) = 9.282, p < 0.0001, r = 0.6840)"
      ],
      "execution_count": null,
      "outputs": []
    },
    {
      "cell_type": "code",
      "metadata": {
        "id": "8JjK2ivbV4wE"
      },
      "source": [
        "# Example 3: Dependent T-test\n",
        "# ---\n",
        "# The paired sample t-test is also called dependent sample t-test. \n",
        "# It’s an univariate test that tests for a significant difference between 2 related variables. \n",
        "# An example of this is if you where to collect the blood pressure for an individual before \n",
        "# and after some treatment, condition, or time point.\n",
        "# ---\n",
        "# Question: Compute the t-test to see if there is a significant difference in blood pressure before and blood pressure after.\n",
        "# Dataset url = http://bit.ly/BloodPressureDataset\n",
        "# ---\n",
        "# \n",
        "\n",
        "# In order for the paired sample t-test results to be trusted, the following assumptions need to be met:\n",
        "# 1. The dependent variable (DV) must be continuous which is measured on an interval or ratio scale\n",
        "# 2. The DV should be approximately normally distributed\n",
        "# - Testing for normality needs to be conducted on the differences between the two conditions, not the raw values of each condition itself\n",
        "# - The paired sample t-test is robust to this violation. If there is a violation of normality, as long as it’s not in a major violation the test results can be considered valid\n",
        "# 3. The DV should not contain any significant outliers\n",
        "# If any of these assumptions are violated, a different test should be used. \n",
        "# An alternative to the paired sample t-test is the Wilcoxon signed-rank Test.\n",
        "\n",
        "# Step 1: \n",
        "# Taking a look at our data\n",
        "# ---\n",
        "# df[['bp_before','bp_after']].describe()\n",
        "\n",
        "# Step 2:\n",
        "# Checking for any significant outliers in each of the variables\n",
        "# ---\n",
        "# df[['bp_before', 'bp_after']].plot(kind='box')\n",
        "\n",
        "# Step 2:\n",
        "# Remember that for the dependent sample T-test the normality check needs to be conducted on differences \n",
        "# between the two scores. There are a few ways one can test this assumption – make a histogram, use a Q-Q plot, \n",
        "# and/or use a statistical test. Let’s create a variable for the differences and run through these.\n",
        "\n",
        "# Step 3:\n",
        "# The histogram of our data seems to be normally distributed. \n",
        "# Another way to check for normally distributed data is to use a Q-Q plot. \n",
        "# If you’re unfamiliar with how to read a Q-Q plot, the data should be on the red line. \n",
        "# If it’s not, then it suggests that the data may not be normally distributed.\n",
        "# ---\n",
        "# stats.probplot(df['bp_difference'], plot= plt)\n",
        "# plt.title('Blood pressure Difference Q-Q Plot')\n",
        "\n",
        "# Step 4:\n",
        "# There is some deviation from normality, but it does not appear to be severe so there is no need to worry. \n",
        "# To be sure, let’s test this statistically to see if the data is normally distributed.\n",
        "# To test this, one can use the Shapiro-Wilk test for normality. Unfortunately the output is not labeled. \n",
        "# The first value is the W test value, and the second value it the p-value.\n",
        "# ---\n",
        "# stats.shapiro(df['bp_difference'])\n",
        "\n",
        "# Step 4:\n",
        "# The test was non-significant. Therefore, the difference between the two conditions is normally distributed. \n",
        "# If this test were to be significant, an appropriate alternative to use would be the Wilcoxon signed-rank Test.\n",
        "\n",
        "# Step 5:\n",
        "# To conduct the paired sample t-test, one needs to use the stats.ttest_rel() method.\n",
        "# stats.ttest_rel(df['bp_before'], df['bp_after'])\n",
        "\n",
        "# Step 6: \n",
        "# We can conclude that the findings are statistically significant."
      ],
      "execution_count": null,
      "outputs": []
    },
    {
      "cell_type": "markdown",
      "metadata": {
        "id": "mKmXFgb5ujhh"
      },
      "source": [
        "### <font color=\"green\">1.24 Challenges</font>"
      ]
    },
    {
      "cell_type": "code",
      "metadata": {
        "id": "kUaIpFDn5-Pv"
      },
      "source": [
        "# Challenge 1\n",
        "# ---\n",
        "# Compute the t-test for the means of two independent samples of scores; Group x and Group y\n",
        "# x = [[1, 2, 3, 4, 5],\n",
        "#     [6, 7, 8, 9, 10]]\n",
        "# y = [[60, 70, 80, 90, 100],\n",
        "#      [110, 120, 130, 140, 150]]\n",
        "# ---\n",
        "#\n",
        "OUR CODE GOES HERE"
      ],
      "execution_count": null,
      "outputs": []
    },
    {
      "cell_type": "code",
      "metadata": {
        "id": "7wEURyFf-f7c"
      },
      "source": [
        "# Challenge 2\n",
        "# ---\n",
        "# Question: Determine if there is a significant difference in the sepal width \n",
        "# between the species Iris-setosa and Iris-virginica.\n",
        "# Dataset url = http://bit.ly/IrisDataset\n",
        "# --- \n",
        "# \n",
        "OUR CODE GOES HERE"
      ],
      "execution_count": null,
      "outputs": []
    },
    {
      "cell_type": "code",
      "metadata": {
        "id": "_WTIUyF8UAIk"
      },
      "source": [
        "# Challenge 3\n",
        "# ---\n",
        "# Background: Par Inc., is a major manufacturer of golf equipment. Management believes that Par’s market\n",
        "# share could be increased with the introduction of a cut-resistant, longer-lasting golf ball. \n",
        "# Therefore, the research group at Par has been investigating a new golf ball coating designed \n",
        "# to resist cuts and provide a more durable ball. The tests with the coating have been promising. \n",
        "# One of the researchers voiced concern about the effect of the new coating on driving distances. \n",
        "# Par would like the new cut-resistant ball to offer driving distances comparable to those of the \n",
        "# current-model golf ball. To compare the driving distances for the two balls, \n",
        "# 40 balls of both the new and current models were subjected to distance tests. \n",
        "# The testing was performed with a mechanical hitting machine so that any difference between \n",
        "# the mean distances for the two models could be attributed to a difference in the design.\n",
        "# ---\n",
        "# Question: Determine if there is a significant differents in the current driving distances of golf balls without coating\n",
        "# and the new driving distances of golf balls with coating.\n",
        "# Dataset url = http://bit.ly/GolfDataset\n",
        "# \n",
        "# ---\n",
        "# \n",
        "OUR CODE GOES HERE"
      ],
      "execution_count": null,
      "outputs": []
    }
  ]
}